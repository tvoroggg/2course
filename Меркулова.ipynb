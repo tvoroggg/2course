{
  "nbformat": 4,
  "nbformat_minor": 0,
  "metadata": {
    "colab": {
      "provenance": []
    },
    "kernelspec": {
      "name": "python3",
      "display_name": "Python 3"
    },
    "language_info": {
      "name": "python"
    }
  },
  "cells": [
    {
      "cell_type": "code",
      "source": [
        "import sys\n",
        "import glob\n",
        "import yaml\n",
        "import graphviz as gv\n",
        "import re"
      ],
      "metadata": {
        "id": "P6Q__khd_OP1"
      },
      "execution_count": 30,
      "outputs": []
    },
    {
      "cell_type": "markdown",
      "source": [
        "**Функция визуализации**"
      ],
      "metadata": {
        "id": "LU9TzPBH-3om"
      }
    },
    {
      "cell_type": "code",
      "source": [
        "styles = {\n",
        "    \"graph\": {\n",
        "        \"label\": \"Network Map\",\n",
        "        \"fontsize\": \"16\",\n",
        "        \"fontcolor\": \"white\",\n",
        "        \"bgcolor\": \"#3F3F3F\",\n",
        "        \"rankdir\": \"BT\",\n",
        "    },\n",
        "    \"nodes\": {\n",
        "        \"fontname\": \"Helvetica\",\n",
        "        \"shape\": \"box\",\n",
        "        \"fontcolor\": \"white\",\n",
        "        \"color\": \"#006699\",\n",
        "        \"style\": \"filled\",\n",
        "        \"fillcolor\": \"#006699\",\n",
        "        \"margin\": \"0.4\",\n",
        "    },\n",
        "    \"edges\": {\n",
        "        \"style\": \"dashed\",\n",
        "        \"color\": \"green\",\n",
        "        \"arrowhead\": \"open\",\n",
        "        \"fontname\": \"Courier\",\n",
        "        \"fontsize\": \"14\",\n",
        "        \"fontcolor\": \"white\",\n",
        "    },\n",
        "}\n",
        "\n",
        "\n",
        "def apply_styles(graph, styles):\n",
        "    graph.graph_attr.update((\"graph\" in styles and styles[\"graph\"]) or {})\n",
        "    graph.node_attr.update((\"nodes\" in styles and styles[\"nodes\"]) or {})\n",
        "    graph.edge_attr.update((\"edges\" in styles and styles[\"edges\"]) or {})\n",
        "    return graph\n",
        "\n",
        "\n",
        "def draw_topology(topology_dict, out_filename=\"img/topology\", style_dict=styles):\n",
        "    \"\"\"\n",
        "    topology_dict - словарь с описанием топологии\n",
        "\n",
        "    Пример словаря topology_dict:\n",
        "        {('R4', 'Eth0/1'): ('R5', 'Eth0/1'),\n",
        "         ('R4', 'Eth0/2'): ('R6', 'Eth0/0')}\n",
        "\n",
        "    соответствует топологии:\n",
        "    [ R5 ]-Eth0/1 --- Eth0/1-[ R4 ]-Eth0/2---Eth0/0-[ R6 ]\n",
        "\n",
        "    Функция генерирует топологию, в формате svg.\n",
        "    И записывает файл topology.svg в каталог img.\n",
        "    \"\"\"\n",
        "    nodes = set(\n",
        "        [item[0] for item in list(topology_dict.keys()) + list(topology_dict.values())]\n",
        "    )\n",
        "\n",
        "    graph = gv.Graph(format=\"svg\")\n",
        "\n",
        "    for node in nodes:\n",
        "        graph.node(node)\n",
        "\n",
        "    for key, value in topology_dict.items():\n",
        "        head, t_label = key\n",
        "        tail, h_label = value\n",
        "        graph.edge(head, tail, headlabel=h_label, taillabel=t_label, label=\" \" * 12)\n",
        "\n",
        "    graph = apply_styles(graph, style_dict)\n",
        "    filename = graph.render(filename=out_filename)\n",
        "    print(\"Topology saved in\", filename)"
      ],
      "metadata": {
        "id": "93weFsPW_FaZ"
      },
      "execution_count": 31,
      "outputs": []
    },
    {
      "cell_type": "markdown",
      "source": [
        "Словарь"
      ],
      "metadata": {
        "id": "4RkBwQdJ_lzn"
      }
    },
    {
      "cell_type": "code",
      "source": [
        "def parse_sh_cdp_neighbors(command_output):\n",
        "    regex = re.compile(\n",
        "        r\"(?P<r_dev>\\w+)  +(?P<l_intf>\\S+ \\S+)\"\n",
        "        r\"  +\\d+  +[\\w ]+  +\\S+ +(?P<r_intf>\\S+ \\S+)\"\n",
        "    )\n",
        "    connect_dict = {}\n",
        "    l_dev = re.search(r\"(\\S+)[>#]\", command_output).group(1)\n",
        "    connect_dict[l_dev] = {}\n",
        "    for match in regex.finditer(command_output):\n",
        "        r_dev, l_intf, r_intf = match.group(\"r_dev\", \"l_intf\", \"r_intf\")\n",
        "        connect_dict[l_dev][l_intf] = {r_dev: r_intf}\n",
        "    return connect_dict"
      ],
      "metadata": {
        "id": "dKefATtAAE6A"
      },
      "execution_count": 32,
      "outputs": []
    },
    {
      "cell_type": "code",
      "source": [
        "with open(\"sh_cdp_n_r3.txt\") as f:\n",
        "  test = parse_sh_cdp_neighbors(f.read())\n",
        "  test"
      ],
      "metadata": {
        "id": "9iyN4PI8B4Nl"
      },
      "execution_count": 33,
      "outputs": []
    },
    {
      "cell_type": "code",
      "source": [
        "def generate_topology_from_cdp(list_of_files, save_to_filename=None):\n",
        "    topology = {}\n",
        "    for filename in list_of_files:\n",
        "        with open(filename) as f:\n",
        "            topology.update(parse_sh_cdp_neighbors(f.read()))\n",
        "    if save_to_filename:\n",
        "        with open(save_to_filename, \"w\") as f_out:\n",
        "            yaml.dump(topology, f_out, default_flow_style=False)\n",
        "    return topology"
      ],
      "metadata": {
        "id": "NabiegEnE8vL"
      },
      "execution_count": 34,
      "outputs": []
    },
    {
      "cell_type": "code",
      "source": [
        "f_list = [\n",
        "\"sh_cdp_n_sw1.txt\",\n",
        "\"sh_cdp_n_r1.txt\",\n",
        "\"sh_cdp_n_r2.txt\",\n",
        "\"sh_cdp_n_r3.txt\",\n",
        "\"sh_cdp_n_r4.txt\",\n",
        "\"sh_cdp_n_r5.txt\",\n",
        "\"sh_cdp_n_r6.txt\",\n",
        "]"
      ],
      "metadata": {
        "id": "JAxfNE8HGFWa"
      },
      "execution_count": 35,
      "outputs": []
    },
    {
      "cell_type": "code",
      "source": [
        "f_list = glob.glob(\"sh_cdp_n_*\")\n",
        "generate_topology_from_cdp(f_list, save_to_filename=\"topology.yaml\")"
      ],
      "metadata": {
        "colab": {
          "base_uri": "https://localhost:8080/"
        },
        "id": "tmcdNxhfGMWm",
        "outputId": "630b588a-9997-43aa-90de-1e3f38ac9a82",
        "collapsed": true
      },
      "execution_count": 36,
      "outputs": [
        {
          "output_type": "execute_result",
          "data": {
            "text/plain": [
              "{'R6': {'Eth 0/1': {'R2': 'Eth 0/2'}},\n",
              " 'R3': {'Eth 0/0': {'SW1': 'Eth 0/3'}},\n",
              " 'R1': {'Eth 0/0': {'SW1': 'Eth 0/1'}},\n",
              " 'SW1': {'Eth 0/1': {'R1': 'Eth 0/0'},\n",
              "  'Eth 0/2': {'R2': 'Eth 0/0'},\n",
              "  'Eth 0/3': {'R3': 'Eth 0/0'},\n",
              "  'Eth 0/4': {'R4': 'Eth 0/0'}},\n",
              " 'R2': {'Eth 0/0': {'SW1': 'Eth 0/2'},\n",
              "  'Eth 0/1': {'R5': 'Eth 0/0'},\n",
              "  'Eth 0/2': {'R6': 'Eth 0/1'}},\n",
              " 'R5': {'Eth 0/0': {'R2': 'Eth 0/1'}, 'Eth 0/1': {'R4': 'Eth 0/1'}},\n",
              " 'R4': {'Eth 0/0': {'SW1': 'Eth 0/4'}, 'Eth 0/1': {'R5': 'Eth 0/1'}}}"
            ]
          },
          "metadata": {},
          "execution_count": 36
        }
      ]
    },
    {
      "cell_type": "code",
      "source": [
        "def transform_topology(topology_filename):\n",
        "    with open(topology_filename) as f:\n",
        "        raw_topology = yaml.safe_load(f)\n",
        "\n",
        "    formatted_topology = {}\n",
        "    for l_device, peer in raw_topology.items():\n",
        "        for l_int, remote in peer.items():\n",
        "            r_device, r_int = list(remote.items())[0]\n",
        "            if not (r_device, r_int) in formatted_topology:\n",
        "                formatted_topology[(l_device, l_int)] = (r_device, r_int)\n",
        "    return formatted_topology"
      ],
      "metadata": {
        "id": "knJCkebFI6ER"
      },
      "execution_count": 37,
      "outputs": []
    },
    {
      "cell_type": "code",
      "source": [
        "formatted_topology = transform_topology(\"topology.yaml\")\n",
        "draw_topology(formatted_topology)"
      ],
      "metadata": {
        "colab": {
          "base_uri": "https://localhost:8080/"
        },
        "id": "F50ThPFnI9gE",
        "outputId": "fb636324-3b65-4c59-c84a-8e9ea75c3a4f",
        "collapsed": true
      },
      "execution_count": 38,
      "outputs": [
        {
          "output_type": "stream",
          "name": "stdout",
          "text": [
            "Topology saved in img/topology.svg\n"
          ]
        }
      ]
    }
  ]
}